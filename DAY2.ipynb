{
  "nbformat": 4,
  "nbformat_minor": 0,
  "metadata": {
    "colab": {
      "name": "DAY2.ipynb",
      "provenance": [],
      "collapsed_sections": [],
      "authorship_tag": "ABX9TyP8eQHJD43kp8Nmt1PZit+H",
      "include_colab_link": true
    },
    "kernelspec": {
      "name": "python3",
      "display_name": "Python 3"
    },
    "language_info": {
      "name": "python"
    }
  },
  "cells": [
    {
      "cell_type": "markdown",
      "metadata": {
        "id": "view-in-github",
        "colab_type": "text"
      },
      "source": [
        "<a href=\"https://colab.research.google.com/github/thanhlamnguyen/Try-hard-/blob/main/DAY2.ipynb\" target=\"_parent\"><img src=\"https://colab.research.google.com/assets/colab-badge.svg\" alt=\"Open In Colab\"/></a>"
      ]
    },
    {
      "cell_type": "markdown",
      "metadata": {
        "id": "w3SuW_k2AnVr"
      },
      "source": [
        "1.STRING MANIPULATION (Thao tác chuỗi)"
      ]
    },
    {
      "cell_type": "code",
      "metadata": {
        "colab": {
          "base_uri": "https://localhost:8080/"
        },
        "id": "2xPwSx-t_90i",
        "outputId": "eaf6551b-180e-4791-ee91-06375d8fa666"
      },
      "source": [
        "#.title()\n",
        "name = \"thanh lam\"\n",
        "print(name.title()) \n",
        "print(name.lower()) \n",
        "print(name.upper())"
      ],
      "execution_count": 4,
      "outputs": [
        {
          "output_type": "stream",
          "text": [
            "Thanh Lam\n",
            "thanh lam\n",
            "THANH LAM\n"
          ],
          "name": "stdout"
        }
      ]
    },
    {
      "cell_type": "code",
      "metadata": {
        "colab": {
          "base_uri": "https://localhost:8080/"
        },
        "id": "u-e2VZRTBke2",
        "outputId": "ed7fb577-64ed-41a3-b73c-a5c37905e120"
      },
      "source": [
        "#.replace()\n",
        "words = \"Hello my world!\"\n",
        "print(words.replace(\"!\",\".\"))\n",
        "print(words.replace(\"Hello\",\"Hi\"))"
      ],
      "execution_count": 7,
      "outputs": [
        {
          "output_type": "stream",
          "text": [
            "Hello my world.\n",
            "Hi my world!\n"
          ],
          "name": "stdout"
        }
      ]
    },
    {
      "cell_type": "code",
      "metadata": {
        "colab": {
          "base_uri": "https://localhost:8080/"
        },
        "id": "XpTgEsS2CH9e",
        "outputId": "e2f1b524-b84e-4ef9-c25d-2b245a083bfb"
      },
      "source": [
        "#.find()\n",
        "s = \"Look over that way\"\n",
        "print(s.find(\"over\"))"
      ],
      "execution_count": 10,
      "outputs": [
        {
          "output_type": "stream",
          "text": [
            "5\n"
          ],
          "name": "stdout"
        }
      ]
    },
    {
      "cell_type": "code",
      "metadata": {
        "colab": {
          "base_uri": "https://localhost:8080/"
        },
        "id": "msD_u0z9Cek4",
        "outputId": "9e03211c-a8be-45d8-ea4c-97e20e146ac3"
      },
      "source": [
        "#.strip() removing white space with strip\n",
        "name = \"  lam  \"\n",
        "print(name.strip())"
      ],
      "execution_count": 16,
      "outputs": [
        {
          "output_type": "stream",
          "text": [
            "lam\n"
          ],
          "name": "stdout"
        }
      ]
    },
    {
      "cell_type": "code",
      "metadata": {
        "colab": {
          "base_uri": "https://localhost:8080/"
        },
        "id": "QiHpRrTqEDzs",
        "outputId": "d0181fa8-b128-42dc-8996-839a7cd1209e"
      },
      "source": [
        "#.split()\n",
        "a = \"Nguyen Thanh Lam So Good\"\n",
        "print(a.split(\" \"))"
      ],
      "execution_count": 17,
      "outputs": [
        {
          "output_type": "stream",
          "text": [
            "['Nguyen', 'Thanh', 'Lam', 'So', 'Good']\n"
          ],
          "name": "stdout"
        }
      ]
    }
  ]
}